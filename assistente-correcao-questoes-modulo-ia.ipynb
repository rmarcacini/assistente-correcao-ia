{
  "nbformat": 4,
  "nbformat_minor": 0,
  "metadata": {
    "colab": {
      "name": "Provas Virtuais Web 3.0 - Módulo de IA para Assistente de Correção de Questões Abertas.ipynb",
      "provenance": [],
      "toc_visible": true
    },
    "kernelspec": {
      "name": "python3",
      "display_name": "Python 3"
    },
    "accelerator": "GPU"
  },
  "cells": [
    {
      "cell_type": "markdown",
      "metadata": {
        "id": "oO2kNfJNTixN",
        "colab_type": "text"
      },
      "source": [
        "# Assistente de Correção Ortográfica e Gramatical da Língua Portuguesa"
      ]
    },
    {
      "cell_type": "markdown",
      "metadata": {
        "id": "fulPExWxVoUk",
        "colab_type": "text"
      },
      "source": [
        "## Instalando bibliotecas e dependências"
      ]
    },
    {
      "cell_type": "code",
      "metadata": {
        "id": "z3-RcJZSTbfN",
        "colab_type": "code",
        "colab": {}
      },
      "source": [
        "!wget https://languagetool.org/download/LanguageTool-stable.zip\n",
        "!unzip LanguageTool-stable.zip"
      ],
      "execution_count": null,
      "outputs": []
    },
    {
      "cell_type": "code",
      "metadata": {
        "id": "Jgv3CywWV3B5",
        "colab_type": "code",
        "colab": {}
      },
      "source": [
        "!wget -O jre-8u251-linux-x64.tar.gz 'https://javadl.oracle.com/webapps/download/AutoDL?xd_co_f=M2FmMjIzNjktMjBjNC00Y2QxLWFjNGYtMDI5MWMzNDM1MTFh&BundleId=242050_3d5a2bb8f8d4428bbe94aed7ec7ae784'"
      ],
      "execution_count": null,
      "outputs": []
    },
    {
      "cell_type": "code",
      "metadata": {
        "id": "c7m_vrQmWasI",
        "colab_type": "code",
        "colab": {}
      },
      "source": [
        "!tar -xzvf jre-8u251-linux-x64.tar.gz"
      ],
      "execution_count": null,
      "outputs": []
    },
    {
      "cell_type": "markdown",
      "metadata": {
        "id": "8czfOtnXWjI2",
        "colab_type": "text"
      },
      "source": [
        "## Carregando serviço de correção ortográfica na porta local 7001"
      ]
    },
    {
      "cell_type": "code",
      "metadata": {
        "id": "r-CSGEKxWuWZ",
        "colab_type": "code",
        "colab": {}
      },
      "source": [
        "!nohup jre1.8.0_251/bin/java -cp LanguageTool-5.0/languagetool-server.jar org.languagetool.server.HTTPServer --port 7001 --allow-origin \"*\" > corretor.run.log &"
      ],
      "execution_count": null,
      "outputs": []
    },
    {
      "cell_type": "code",
      "metadata": {
        "id": "SnKHU-jxXIDu",
        "colab_type": "code",
        "colab": {}
      },
      "source": [
        "!cat corretor.run.log"
      ],
      "execution_count": null,
      "outputs": []
    },
    {
      "cell_type": "code",
      "metadata": {
        "id": "CT4HIRxkXLU0",
        "colab_type": "code",
        "colab": {}
      },
      "source": [
        "# testando\n",
        "!curl --data \"language=pt-BR&text=A menino chutou o bola.\" http://localhost:7001/v2/check"
      ],
      "execution_count": null,
      "outputs": []
    },
    {
      "cell_type": "markdown",
      "metadata": {
        "id": "eFRDXt2grnbQ",
        "colab_type": "text"
      },
      "source": [
        "## Método para Correção Ortográfica"
      ]
    },
    {
      "cell_type": "code",
      "metadata": {
        "id": "O5r1f3yDrp1L",
        "colab_type": "code",
        "colab": {}
      },
      "source": [
        "import json\n",
        "import urllib\n",
        "from urllib.request import urlopen\n",
        "\n",
        "def corretor_ortografico(text):\n",
        "\n",
        "  res = []\n",
        "\n",
        "  try:\n",
        "    response = urlopen(\"http://localhost:7001/v2/check?language=pt-BR&text=\"+urllib.parse.quote_plus(text))\n",
        "    corto_json = json.loads(response.read().decode())\n",
        "    return corto_json['matches']\n",
        "    \n",
        "  except:\n",
        "    return [-1] # some error\n",
        "  \n",
        "  return res\n",
        "\n",
        "\n",
        "text = 'O menina chutou a bola.'\n",
        "corretor_ortografico(text)"
      ],
      "execution_count": null,
      "outputs": []
    },
    {
      "cell_type": "markdown",
      "metadata": {
        "id": "4PU-0R1jXs2o",
        "colab_type": "text"
      },
      "source": [
        "# Assistente de Detecção de Plágio"
      ]
    },
    {
      "cell_type": "markdown",
      "metadata": {
        "id": "vCX7L2oWX5cN",
        "colab_type": "text"
      },
      "source": [
        "## Instalando bibliotecas e dependências"
      ]
    },
    {
      "cell_type": "code",
      "metadata": {
        "id": "srAaB57FavJt",
        "colab_type": "code",
        "colab": {}
      },
      "source": [
        "!git clone https://github.com/attardi/wikiextractor.git"
      ],
      "execution_count": null,
      "outputs": []
    },
    {
      "cell_type": "code",
      "metadata": {
        "id": "9kyjf9eMg8aU",
        "colab_type": "code",
        "colab": {}
      },
      "source": [
        "!pip install elasticsearch-loader"
      ],
      "execution_count": null,
      "outputs": []
    },
    {
      "cell_type": "markdown",
      "metadata": {
        "id": "s5PyVzsWZMTN",
        "colab_type": "text"
      },
      "source": [
        "## Compilando Base de Referência para Verificação de Plágio: Wikipedia - PT-BR"
      ]
    },
    {
      "cell_type": "code",
      "metadata": {
        "id": "kZA4GugTZKtb",
        "colab_type": "code",
        "colab": {}
      },
      "source": [
        "!wget https://dumps.wikimedia.org/ptwiki/latest/ptwiki-latest-pages-articles.xml.bz2"
      ],
      "execution_count": null,
      "outputs": []
    },
    {
      "cell_type": "code",
      "metadata": {
        "id": "l9ZTJ-DEZbCc",
        "colab_type": "code",
        "colab": {}
      },
      "source": [
        "!python3 wikiextractor/WikiExtractor.py ptwiki-latest-pages-articles.xml.bz2 --processes 8 --json -o WIKIJSON"
      ],
      "execution_count": null,
      "outputs": []
    },
    {
      "cell_type": "markdown",
      "metadata": {
        "id": "QtFHvOtMck9m",
        "colab_type": "text"
      },
      "source": [
        "## Indexando base de referência em um sistema de recuperação de informação (Elasticsearch Porta Local 9200)\n"
      ]
    },
    {
      "cell_type": "code",
      "metadata": {
        "id": "uOkqbcdEcqbK",
        "colab_type": "code",
        "colab": {}
      },
      "source": [
        "!wget https://artifacts.elastic.co/downloads/elasticsearch/elasticsearch-7.0.0-linux-x86_64.tar.gz -q\n",
        "!tar -xzf elasticsearch-7.0.0-linux-x86_64.tar.gz\n",
        "!chown -R daemon:daemon elasticsearch-7.0.0\n",
        "# start server\n",
        "import os\n",
        "from subprocess import Popen, PIPE, STDOUT\n",
        "es_server = Popen(['elasticsearch-7.0.0/bin/elasticsearch'], \n",
        "                  stdout=PIPE, stderr=STDOUT,\n",
        "                  preexec_fn=lambda: os.setuid(1)  # as daemon\n",
        "                 )"
      ],
      "execution_count": null,
      "outputs": []
    },
    {
      "cell_type": "code",
      "metadata": {
        "id": "sKm-3TxFekIc",
        "colab_type": "code",
        "colab": {}
      },
      "source": [
        "# testando (só continuar depois de verificar que elasticsearch esta executando)\n",
        "!curl -X GET \"localhost:9200/\""
      ],
      "execution_count": null,
      "outputs": []
    },
    {
      "cell_type": "code",
      "metadata": {
        "id": "5trNq6G2hDzR",
        "colab_type": "code",
        "colab": {}
      },
      "source": [
        "# indexando\n",
        "!elasticsearch_loader  --index plagio --type wikipediaptbr json --json-lines WIKIJSON/AA/wiki_00\n",
        "!elasticsearch_loader  --index plagio --type wikipediaptbr json --json-lines WIKIJSON/AA/wiki_01\n",
        "!elasticsearch_loader  --index plagio --type wikipediaptbr json --json-lines WIKIJSON/AA/wiki_02"
      ],
      "execution_count": null,
      "outputs": []
    },
    {
      "cell_type": "code",
      "metadata": {
        "id": "VOYwGqBmhsi6",
        "colab_type": "code",
        "colab": {}
      },
      "source": [
        "!wget -O teste_plagio.json \"http://localhost:9200/_search?q=manchas+solares\"\n",
        "!cat teste_plagio.json"
      ],
      "execution_count": null,
      "outputs": []
    },
    {
      "cell_type": "markdown",
      "metadata": {
        "id": "xLn2SIF3rghh",
        "colab_type": "text"
      },
      "source": [
        "## Método para Plágio Scoring"
      ]
    },
    {
      "cell_type": "code",
      "metadata": {
        "id": "a5Jl9LHfdW1-",
        "colab_type": "code",
        "colab": {}
      },
      "source": [
        "import json\n",
        "import urllib\n",
        "from urllib.request import urlopen\n",
        "\n",
        "def plagio_detector(query):\n",
        "\n",
        "  res = []\n",
        "\n",
        "  try:\n",
        "    response = urlopen(\"http://localhost:9200/_search/?q=\"+urllib.parse.quote_plus(query))\n",
        "    plagio_json = json.loads(response.read().decode())\n",
        "\n",
        "    for hits in plagio_json['hits']['hits']:\n",
        "      score = hits['_score']/30.0\n",
        "      if score > 1.0: score = 1.0\n",
        "      res.append( [score, hits['_source']] )\n",
        "  except:\n",
        "    return [-1] # some error\n",
        "  \n",
        "  return res\n",
        "\n",
        "\n",
        "query = 'Astronomia é uma ciência natural que estuda corpos celestes'\n",
        "plagio_detector(query)"
      ],
      "execution_count": null,
      "outputs": []
    },
    {
      "cell_type": "markdown",
      "metadata": {
        "id": "XMz6IpBqjG4c",
        "colab_type": "text"
      },
      "source": [
        "# Assistente de Fuga de Tema (Questões Aberts / Discursivas)"
      ]
    },
    {
      "cell_type": "markdown",
      "metadata": {
        "id": "zx8cWxdJjQVZ",
        "colab_type": "text"
      },
      "source": [
        "## Instalando bibliotecas e dependências"
      ]
    },
    {
      "cell_type": "code",
      "metadata": {
        "id": "ARlJaeLYX2d5",
        "colab_type": "code",
        "colab": {}
      },
      "source": [
        "!pip install -U sentence-transformers\n",
        "\n"
      ],
      "execution_count": null,
      "outputs": []
    },
    {
      "cell_type": "code",
      "metadata": {
        "id": "xJLkjXfQzTpX",
        "colab_type": "code",
        "colab": {}
      },
      "source": [
        "!pip install transformers==2.11.0"
      ],
      "execution_count": null,
      "outputs": []
    },
    {
      "cell_type": "markdown",
      "metadata": {
        "id": "mwHTtYQ_j8zL",
        "colab_type": "text"
      },
      "source": [
        "## Algoritmo para detecção de fuga de tema usando modelo de linguagem (DistilBert multilíngua)"
      ]
    },
    {
      "cell_type": "code",
      "metadata": {
        "id": "8oEZapiVkD-j",
        "colab_type": "code",
        "colab": {}
      },
      "source": [
        "import numpy as np\n",
        "from numpy import dot\n",
        "from numpy.linalg import norm\n",
        "\n",
        "# Load Sentence model (based on BERT) from URL\n",
        "from sentence_transformers import SentenceTransformer, LoggingHandler\n",
        "import numpy as np\n",
        "import logging\n",
        "\n",
        "#### Just some code to print debug information to stdout\n",
        "np.set_printoptions(threshold=100)\n",
        "\n",
        "logging.basicConfig(format='%(asctime)s - %(message)s',\n",
        "                    datefmt='%Y-%m-%d %H:%M:%S',\n",
        "                    level=logging.INFO,\n",
        "                    handlers=[LoggingHandler()])\n",
        "\n",
        "language_model = SentenceTransformer('distiluse-base-multilingual-cased')\n",
        "\n",
        "\n",
        "def fuga_score(a,b):\n",
        "  cos_sim = dot(a, b)/(norm(a)*norm(b))\n",
        "  if cos_sim < 0: cos_sim =0.0\n",
        "  score = 1.0 - cos_sim\n",
        "  return score\n",
        "\n",
        "def fuga_tema(texto_entrada, texto_referencia):\n",
        "  global language_model\n",
        "\n",
        "  if len(texto_entrada) < 50: return -1\n",
        "  if len(texto_referencia) < 50: return -1\n",
        "\n",
        "  a = language_model.encode([texto_entrada])[0]\n",
        "  b = language_model.encode([texto_referencia])[0]\n",
        "  return fuga_score(a,b)\n",
        "\n"
      ],
      "execution_count": null,
      "outputs": []
    },
    {
      "cell_type": "code",
      "metadata": {
        "id": "L-ZNkTfKmBE0",
        "colab_type": "code",
        "colab": {}
      },
      "source": [
        "# testando fuga de tema (o quanto o texto de entrada se diferencia semanticamente de um texto de referencia)\n",
        "entrada = 'Paraná chega a 20mil casos de coronavírus e 586 mortes'\n",
        "referencia = 'Paraná ultrapassa a marca de 20 mil casos confirmados de coronavírus'\n",
        "fuga_tema(entrada,referencia)"
      ],
      "execution_count": null,
      "outputs": []
    },
    {
      "cell_type": "markdown",
      "metadata": {
        "id": "J8N-X4G_nu5V",
        "colab_type": "text"
      },
      "source": [
        "# API de Integração dos Assistentes de Provas Virtuais 3.0 (questões abertas/discursivas)"
      ]
    },
    {
      "cell_type": "code",
      "metadata": {
        "id": "RP7P4Tb1oS05",
        "colab_type": "code",
        "colab": {}
      },
      "source": [
        "from flask import Flask,request\n",
        "from flask import jsonify\n",
        "\n",
        "\n",
        "app = Flask(__name__)\n",
        "\n",
        "@app.route(\"/\")\n",
        "def service():\n",
        "    try:\n",
        "        service = request.args.get('service')\n",
        "        print('service: ',service)\n",
        "\n",
        "        if service == 'corretor':\n",
        "          text = request.args.get('text')\n",
        "          print('text: ',text)\n",
        "          res = corretor_ortografico(text)\n",
        "          return jsonify(res),200\n",
        "\n",
        "        if service == 'plagio':\n",
        "          text = request.args.get('text')\n",
        "          print('text: ',text)\n",
        "          res = plagio_detector(text)\n",
        "          return jsonify(res),200\n",
        "\n",
        "        if service == 'fuga_tema':\n",
        "          text = request.args.get('text')\n",
        "          reference = request.args.get('reference')\n",
        "          print('text: ',text)\n",
        "          print('reference: ',reference)\n",
        "          res = fuga_tema(text,reference)\n",
        "          return jsonify([res]),200\n",
        "\n",
        "        return jsonify([-1,'No service defined?']),200\n",
        "\n",
        "    except Exception as e:\n",
        "        print(e)\n",
        "        print(\"An exception occurred\")\n",
        "        return str([-1]),200\n",
        "\n",
        "if __name__ == '__main__':\n",
        "    app.run()"
      ],
      "execution_count": null,
      "outputs": []
    },
    {
      "cell_type": "markdown",
      "metadata": {
        "id": "T8rsdVc4un9b",
        "colab_type": "text"
      },
      "source": [
        "## Executar apenas para debug em modo Google Colab"
      ]
    },
    {
      "cell_type": "code",
      "metadata": {
        "id": "jEGwk5TQusa2",
        "colab_type": "code",
        "colab": {}
      },
      "source": [
        "!pip install pyngrok"
      ],
      "execution_count": null,
      "outputs": []
    },
    {
      "cell_type": "code",
      "metadata": {
        "id": "92GFLnSOurOC",
        "colab_type": "code",
        "colab": {}
      },
      "source": [
        "from pyngrok import ngrok\n",
        "\n",
        "# Open a HTTP tunnel on the default port 80\n",
        "public_url = ngrok.connect(port=5000)\n",
        "print(public_url)"
      ],
      "execution_count": null,
      "outputs": []
    }
  ]
}